{
 "cells": [
  {
   "cell_type": "markdown",
   "metadata": {},
   "source": [
    "#Numpy et Array\n",
    "\n",
    "La bibliothèque NumPy (http://www.numpy.org/) permet d’effectuer des calculs numériques avec Python. Elle introduit une gestion facilitée des tableaux de nombres.\n",
    "\n",
    "Il faut au départ importer le package numpy avec l’instruction suivante :"
   ]
  },
  {
   "cell_type": "code",
   "execution_count": 2,
   "metadata": {},
   "outputs": [],
   "source": [
    "import numpy as np"
   ]
  },
  {
   "cell_type": "markdown",
   "metadata": {},
   "source": [
    "Les tableaux - numpy.array()\n",
    "\n",
    "Les tableaux  peuvent être créés avec numpy.array(). On utilise des crochets pour délimiter les listes d’éléments dans les tableaux.\n",
    "\n"
   ]
  },
  {
   "cell_type": "code",
   "execution_count": 3,
   "metadata": {},
   "outputs": [],
   "source": [
    "a = np.array([[1, 2, 3], [4, 5, 6]])"
   ]
  },
  {
   "cell_type": "markdown",
   "metadata": {},
   "source": [
    "Accès aux éléments d’un tableau :"
   ]
  },
  {
   "cell_type": "code",
   "execution_count": 6,
   "metadata": {},
   "outputs": [
    {
     "name": "stdout",
     "output_type": "stream",
     "text": [
      "2\n"
     ]
    }
   ],
   "source": [
    "print(a[0,1])"
   ]
  },
  {
   "cell_type": "markdown",
   "metadata": {},
   "source": [
    "La fonction numpy.arange() permet de créer des listes en fonction de certain parametres:"
   ]
  },
  {
   "cell_type": "code",
   "execution_count": 2,
   "metadata": {},
   "outputs": [
    {
     "output_type": "stream",
     "name": "stdout",
     "text": [
      "[ 3  5  7  9 11 13]\n"
     ]
    }
   ],
   "source": [
    "import numpy as np\n",
    "m = np.arange(3, 15, 2)\n",
    "print(m)"
   ]
  },
  {
   "cell_type": "markdown",
   "metadata": {},
   "source": [
    "La fonction numpy.linspace() permet d’obtenir un tableau 1D allant d’une valeur de départ à une valeur de fin avec un nombre donné d’éléments."
   ]
  },
  {
   "cell_type": "code",
   "execution_count": null,
   "metadata": {},
   "outputs": [],
   "source": [
    "np.linspace(3, 9, 10)"
   ]
  },
  {
   "cell_type": "markdown",
   "metadata": {},
   "source": [
    "Pour toutes les fonctions que propose numpy, vous pouvez consulter la documentation : https://numpy.org/doc/\n",
    "\n",
    "Le typage faible et dynamique et les limites du language interperté fait de python une solution lente pour traiter les tableaux de grande taille. \n",
    "Dans beaucoup de cas, Numpy fournit une interface pour les opérations standard qui n'implique que des données du même type. Par exemple, on peut calculer les inverses de tous les éléments d'un tableau Numpy :"
   ]
  },
  {
   "cell_type": "code",
   "execution_count": 8,
   "metadata": {},
   "outputs": [],
   "source": [
    "tableau_large = np.random.randint(1, 100, size=1000000)\n",
    "tableau_large = 1.0 / tableau_large"
   ]
  },
  {
   "cell_type": "markdown",
   "metadata": {},
   "source": [
    "Ex 1 :  théorème des valeurs intermédiaires\n",
    "\n",
    "1. Rappel\n",
    "Soit f  une fonction continue définie sur un intervalle I et, a et b deux réels de I.Pour tout réel k compris entre f(a) et f(b), il existe au moins un réel c compris entre a et b tel que f(c)=k.\n",
    "\n",
    "Soit f une fonction continue et strictement monotone sur un intervalle [a;b].Pour tout nombre k compris entre f(a) et f(b), l'équation f(x)=kadmet une unique solution dans l'intervalle [a;b].\n",
    "\n",
    "2. Application\n",
    "Nous considérons dans cet exercice la fonction:fdéfinie sur l'intervalle [0;1], par: f(x)=x^3+2x−2\n",
    "Par la conséquence du théorème des valeurs intermédiaires :  l'équation f(x)=0 admet une unique solution x_0 dans [0;1]\n",
    "* vérifier continuité et stricte monotonie de f sur [0;1]\n",
    "* Pour savoir si x0 se trouve dans [0;0,5]ou dans [0,5;1], il faut vérifier si f(0) et f(0,5)  sont de mêmes signes\n",
    "* proposer un algorithme de recherche pour évaluer x_0 en fonction de $N$, donner par l'utilisateur\n"
   ]
  },
  {
   "cell_type": "code",
   "execution_count": 35,
   "metadata": {},
   "outputs": [
    {
     "name": "stdout",
     "output_type": "stream",
     "text": [
      "x0 compris entre [0.7709169969893992, 0.7709169971058145]\n"
     ]
    },
    {
     "data": {
      "image/png": "[encoded data removed]",
      "text/plain": [
       "<Figure size 432x288 with 1 Axes>"
      ]
     },
     "metadata": {
      "needs_background": "light"
     },
     "output_type": "display_data"
    }
   ],
   "source": [
    "import numpy as np\n",
    "import matplotlib.pyplot as plt\n",
    "\n",
    "# 2)\n",
    "\n",
    "# f : [0,1] -> R\n",
    "#         x |-> x^3 + 2x -2\n",
    "def f(x):\n",
    "    return (x**3 + 2*x - 2)\n",
    "\n",
    "x = np.linspace(0, 1, 1000)\n",
    "plt.plot(x, f(x))\n",
    "plt.xlabel(\"x\")\n",
    "plt.ylabel(\"y\")\n",
    "plt.hlines(0, 0, 1)\n",
    "\n",
    "\n",
    "# 3)\n",
    "\n",
    "# f'(x) = 3*x^2 + 2 > 0 donc f strictement croissante sur [0, 1]\n",
    "# de plus f continue sur [0,1] comme addition de fct continue\n",
    "\n",
    "# 4)\n",
    "\n",
    "def meme_signe():\n",
    "    return f(0)*f(0.5) > 0\n",
    "\n",
    "meme_signe() #True => x0 dans [0.5, 1]\n",
    "\n",
    "def recherche_x0(N):\n",
    "    a = 0\n",
    "    b = 1\n",
    "    x0 = (a+b)/2\n",
    "    while (b-a) > 2*N:\n",
    "        x0 = (a+b)/2\n",
    "        if f(a)*f(x0) > 0:\n",
    "            a = x0\n",
    "        else:\n",
    "            b = x0\n",
    "    return (a,b)\n",
    "\n",
    "a, b = recherche_x0(1E-10);\n",
    "\n",
    "print(\"x0 compris entre [\",a, \", \", b, \"]\", sep=\"\")\n",
    "\n",
    "plt.vlines((a+b)/2, -2, 1)\n",
    "plt.show()\n",
    "\n"
   ]
  },
  {
   "cell_type": "markdown",
   "metadata": {},
   "source": [
    "Ex 2: Carrés magiques\n",
    "Un carré magique est un tableau carré de taille n×n qui contient tous les entiers de 1 à n^2 et qui vérifie que : la somme de chaque ligne, la somme de chaque colonne, la somme de la diagonale principale et la somme de l’anti-diagonale ont toutes la même valeur.\n",
    "\n",
    "Pour un carré magique de taille n×n, la valeur de la somme est : S_n=n(n^2+1)/2\n",
    "\n",
    "1. Définir un tableau pour chacun des exemples 3×3 et 4×4\n",
    "2. Définir une fonction est_carre_magique(carre)qui teste si un tableau donné est (ou pas) un carré magique\n",
    "3. Génèrer de façon aléatoire des carrés contenant les entiers de 1 à n^2 grâce à une fonction carre_aleatoire(n). \n",
    "4. Définir la probabilité d'obtenir un carrée magique\n",
    "5. Définir une fonction addition_carre(carre,k)qui ajoute un entier k à tous les éléments du carré.\n"
   ]
  },
  {
   "cell_type": "code",
   "execution_count": 6,
   "metadata": {},
   "outputs": [
    {
     "output_type": "stream",
     "name": "stdout",
     "text": [
      "[[ 4. 12.  4.  2.]\n",
      " [12. 13. 10.  8.]\n",
      " [ 5.  7.  9. 13.]\n",
      " [12.  8.  1. 14.]]\n",
      "[[16. 11. 18.]\n",
      " [17. 15. 13.]\n",
      " [12. 19. 14.]]\n"
     ]
    }
   ],
   "source": [
    "import numpy as np\n",
    "\n",
    "# 1)\n",
    "carre_3x3 = np.array([[6, 1, 8], [7, 5, 3], [2, 9, 4]])\n",
    "carre_4x4 = np.array([[16, 3, 2, 13], [10, 8, 11 , 5], [7, 9, 6, 12], [1, 14, 15, 4]])\n",
    "\n",
    "\n",
    "# 2)\n",
    "def somme_ligne(tab, i, taille):\n",
    "    somme = 0\n",
    "    for j in range(taille):\n",
    "        somme += tab[i, j]\n",
    "    return somme\n",
    "\n",
    "def somme_colonne(tab, j, taille):\n",
    "    somme = 0\n",
    "    for i in range(taille):\n",
    "        somme += tab[i, j]\n",
    "    return somme\n",
    "\n",
    "def somme_diagonale_gd(tab, taille):\n",
    "    somme = 0\n",
    "    for i in range(taille):\n",
    "        somme += tab[i,i]\n",
    "    return somme\n",
    "\n",
    "def somme_diagonale_dg(tab, taille):\n",
    "    somme = 0\n",
    "    i = 0\n",
    "    for j in range(taille-1, -1, -1):\n",
    "        # print(\"(\",i,\",\",j,\")\",\" : \",tab[i,j])\n",
    "        somme += tab[i, j]\n",
    "        i += 1\n",
    "    return somme\n",
    "\n",
    "def est_carre_magique(tab):\n",
    "    nb_rows = tab.shape\n",
    "    dim = tab.ndim\n",
    "    if (nb_rows[0] != nb_rows[1]) or dim != 2:\n",
    "        return False\n",
    "    nb_rows = nb_rows[0]\n",
    "    somme_carre = int((nb_rows)*((nb_rows)**2 + 1)/2)\n",
    "    # print(somme_carre)\n",
    "    diag = somme_diagonale_gd(tab, nb_rows) == somme_carre and somme_diagonale_dg(tab, nb_rows) == somme_carre\n",
    "    # print(somme_diagonale_gd(tab, dim+1))\n",
    "    # print(diag)\n",
    "    ligne = True\n",
    "    colonne = True\n",
    "    for i in range(dim):\n",
    "        ligne = ligne and somme_ligne(tab, i, nb_rows) == somme_carre\n",
    "        # print(\"ligne :\", ligne)\n",
    "        colonne = colonne and somme_colonne(tab, i, nb_rows) == somme_carre\n",
    "        # print(\"colonne :\", colonne)\n",
    "    return diag and ligne and colonne\n",
    "\n",
    "est_carre_magique(carre_4x4)\n",
    "# somme_diagonale_dg(carre_3x3, 3)\n",
    "\n",
    "def carre_aleatoire(n):\n",
    "    matrix = np.empty([n, n])\n",
    "    for i in range(n):\n",
    "        for j in range(n):\n",
    "            matrix[i][j] = np.random.randint(1, high = n**2)\n",
    "    return matrix\n",
    "\n",
    "matrice = carre_aleatoire(4)\n",
    "print(matrice)\n",
    "\n",
    "def addition_carre(carre, k):\n",
    "    nb_rows = carre.shape[0]\n",
    "    nb_columns = carre.shape[1]\n",
    "    add =np.empty([nb_rows, nb_columns])\n",
    "    add.fill(k)\n",
    "    return  carre + add\n",
    "\n",
    "print(addition_carre(carre_3x3, 10))"
   ]
  }
 ],
 "metadata": {
  "kernelspec": {
   "name": "Python 3.7.3 64-bit",
   "display_name": "Python 3.7.3 64-bit",
   "metadata": {
    "interpreter": {
     "hash": "57e3bf7104254f0530a097754bc9425c53ef9dffe164d597e42ceb5f87a23a8d"
    }
   }
  },
  "language_info": {
   "codemirror_mode": {
    "name": "ipython",
    "version": 3
   },
   "file_extension": ".py",
   "mimetype": "text/x-python",
   "name": "python",
   "nbconvert_exporter": "python",
   "pygments_lexer": "ipython3",
   "version": "3.7.3-final"
  }
 },
 "nbformat": 4,
 "nbformat_minor": 4
}